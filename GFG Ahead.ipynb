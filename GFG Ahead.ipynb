{
 "cells": [
  {
   "cell_type": "code",
   "execution_count": 3,
   "metadata": {},
   "outputs": [],
   "source": [
    "#Reverse digits\n",
    "class Solution:\n",
    "    def reverse_digit(self, n):\n",
    "        # Code here\n",
    "        rev = 0\n",
    "        while n > 0:\n",
    "            a = n % 10\n",
    "            rev = rev*10 + a\n",
    "            n = n // 10\n",
    "        return rev"
   ]
  },
  {
   "cell_type": "code",
   "execution_count": 4,
   "metadata": {},
   "outputs": [],
   "source": [
    "#C++ Array (print an element) | Set 2\n",
    "def findElementAtIndex(arr,n,key):\n",
    "    # Your code goes here\n",
    "    return arr[key]"
   ]
  },
  {
   "cell_type": "code",
   "execution_count": 7,
   "metadata": {},
   "outputs": [
    {
     "name": "stdout",
     "output_type": "stream",
     "text": [
      "2\n"
     ]
    }
   ],
   "source": [
    "#Count Digits\n",
    "def evenlyDivides (N):\n",
    "    # code here\n",
    "    str_n = str(N)\n",
    "    cnt = 0\n",
    "    for i in range(len(str_n)):\n",
    "        if N%int(str_n[i]) == 0:\n",
    "            cnt += 1\n",
    "    return cnt\n",
    "print(evenlyDivides(12))"
   ]
  },
  {
   "cell_type": "code",
   "execution_count": null,
   "metadata": {},
   "outputs": [],
   "source": [
    "#Display longest name\n",
    "def longest(self, names, n):\n",
    "    # code here\n",
    "    long_name = names[0]\n",
    "    for i in range(1, len(names)):\n",
    "        if len(long_name) < len(names[i]):\n",
    "            long_name = names[i]\n",
    "    return long_name\n",
    "    \t        "
   ]
  },
  {
   "cell_type": "code",
   "execution_count": 9,
   "metadata": {},
   "outputs": [],
   "source": [
    "#Series AP\n",
    "def nthTermOfAP(self,A1,A2,N):\n",
    "        #code here\n",
    "        return A1 + (N-1) * (A2-A1)"
   ]
  },
  {
   "cell_type": "code",
   "execution_count": 10,
   "metadata": {},
   "outputs": [],
   "source": [
    "#Palinedrome\n",
    "class Solution:\n",
    "    def reverse(self, N):\n",
    "        rev = 0\n",
    "        while N > 0:\n",
    "            a = N % 10\n",
    "            rev = rev * 10 + a\n",
    "            N = N // 10\n",
    "        return rev\n",
    "            \n",
    "\n",
    "    def is_palindrome(self, n):\n",
    "        # Code here\n",
    "        return \"Yes\" if self.reverse(n) == n else \"No\""
   ]
  },
  {
   "cell_type": "code",
   "execution_count": 11,
   "metadata": {},
   "outputs": [],
   "source": [
    "#Remove Spaces\n",
    "def modify(self, s):\n",
    "    return s.replace(\" \", \"\")"
   ]
  },
  {
   "cell_type": "code",
   "execution_count": 12,
   "metadata": {},
   "outputs": [],
   "source": [
    "#Sum of Digit is Pallindrome or not\n",
    "class Solution:\n",
    "    def DigitSum(self, N):\n",
    "        str_n = str(N)\n",
    "        sum_n = 0\n",
    "        for i in range(len(str_n)):\n",
    "            sum_n += int(str_n[i])\n",
    "        return sum_n\n",
    "            \n",
    "    def reverse(self, N):\n",
    "        rev = 0\n",
    "        while N > 0:\n",
    "            a = N % 10\n",
    "            rev = (rev * 10) + a\n",
    "            N = N // 10\n",
    "        return rev\n",
    "        \n",
    "    def isDigitSumPalindrome(self,N):\n",
    "        add = self.DigitSum(N)\n",
    "        rev = self.reverse(add)\n",
    "        return 1 if add == rev else 0"
   ]
  },
  {
   "cell_type": "code",
   "execution_count": 13,
   "metadata": {},
   "outputs": [],
   "source": [
    "#C++ if-else (Decision Making)\n",
    "def compareFive (ob,N):\n",
    "        # code here \n",
    "        if N > 5:\n",
    "            return \"Greater than 5\" \n",
    "        elif N < 5:\n",
    "            return \"Less than 5\"\n",
    "        else:\n",
    "            return \"Equal to 5\""
   ]
  },
  {
   "cell_type": "code",
   "execution_count": 14,
   "metadata": {},
   "outputs": [],
   "source": [
    "#Convert String to LowerCase\n",
    "def toLower (ob, S):\n",
    "        # code here \n",
    "        return S.lower()"
   ]
  },
  {
   "cell_type": "code",
   "execution_count": 15,
   "metadata": {},
   "outputs": [],
   "source": [
    "#Addition of Two Numbers\n",
    "def addition (ob,A,B):\n",
    "        # code here \n",
    "        return A+B"
   ]
  },
  {
   "cell_type": "code",
   "execution_count": 27,
   "metadata": {},
   "outputs": [
    {
     "data": {
      "text/plain": [
       "-1"
      ]
     },
     "execution_count": 27,
     "metadata": {},
     "output_type": "execute_result"
    }
   ],
   "source": [
    "class Solution:\n",
    "    def findIndex (self,a, N, key ):\n",
    "        if a.count(key):\n",
    "            first_idx = a.index(key)\n",
    "        else:\n",
    "            return -1\n",
    "\n",
    "Solution().findIndex([1,2,3,4,5,5], 6, 6)"
   ]
  },
  {
   "cell_type": "code",
   "execution_count": 3,
   "metadata": {},
   "outputs": [],
   "source": [
    "#Multiplication Table\n",
    "class Solution:\n",
    "    def getTable(self,N):\n",
    "        return [N*i for i in range(1, 11)]"
   ]
  },
  {
   "cell_type": "code",
   "execution_count": 5,
   "metadata": {},
   "outputs": [],
   "source": [
    "#Print 1 to n without using loops\n",
    "class Solution:\n",
    "    def printTillN(self, N):\n",
    "        if N>0:\n",
    "            self.printTillN(N-1)\n",
    "            print(N, end=\" \")"
   ]
  },
  {
   "cell_type": "code",
   "execution_count": 6,
   "metadata": {},
   "outputs": [],
   "source": [
    "#Replace all 0's with 5\n",
    "class Solution:\n",
    "    def convertFive(self,n):\n",
    "        #Code here\n",
    "        return int(str(n).replace('0','5'))"
   ]
  },
  {
   "cell_type": "code",
   "execution_count": 2,
   "metadata": {},
   "outputs": [],
   "source": [
    "#perfect Array\n",
    "class Solution:\n",
    "    def IsPerfect(self,arr,n):\n",
    "        #Complete the function\n",
    "        return \"PERFECT\" if arr == arr[::-1] else \"NOT PERFECT\""
   ]
  },
  {
   "cell_type": "code",
   "execution_count": 7,
   "metadata": {},
   "outputs": [],
   "source": [
    "#Party of Couples\n",
    "class Solution:\n",
    "    def findSingle(self, N, arr):\n",
    "        # code here\n",
    "        single = set(arr)\n",
    "        return next((elem for elem in arr if arr.count(elem)%2 != 0))"
   ]
  },
  {
   "cell_type": "code",
   "execution_count": 8,
   "metadata": {},
   "outputs": [],
   "source": [
    "#At least two greater elements\n",
    "class Solution:\n",
    "    def findElements(self,a, n):\n",
    "        # Your code goes here\n",
    "        a.sort()\n",
    "        return a[:-2]\n",
    "    "
   ]
  },
  {
   "cell_type": "code",
   "execution_count": 9,
   "metadata": {},
   "outputs": [],
   "source": [
    "#GCD of two numbers\n",
    "class Solution:\n",
    "    def factor(self, num):\n",
    "        return [i for i in range(1, num+1) if num%i == 0]\n",
    "    def gcd(self, A, B):\n",
    "        fact_A = set(self.factor(A))\n",
    "        fact_B = set(self.factor(B))\n",
    "        gcd_num = 1\n",
    "        com_elem = fact_A & fact_B\n",
    "        for elm in com_elem:\n",
    "            gcd_num = gcd_num * elm\n",
    "        return gcd_num"
   ]
  },
  {
   "cell_type": "code",
   "execution_count": 2,
   "metadata": {},
   "outputs": [
    {
     "name": "stdout",
     "output_type": "stream",
     "text": [
      "[10, 30, 50, 70]\n"
     ]
    }
   ],
   "source": [
    "def streamAvg(arr, n):\n",
    "    pf = []\n",
    "    pf.append(arr[0])\n",
    "    for i in range(1, n):\n",
    "        pf.append(arr[i-1]+arr[i])\n",
    "    print(pf)\n",
    "streamAvg([10,20,30,40], 4)"
   ]
  }
 ],
 "metadata": {
  "kernelspec": {
   "display_name": "Python 3",
   "language": "python",
   "name": "python3"
  },
  "language_info": {
   "codemirror_mode": {
    "name": "ipython",
    "version": 3
   },
   "file_extension": ".py",
   "mimetype": "text/x-python",
   "name": "python",
   "nbconvert_exporter": "python",
   "pygments_lexer": "ipython3",
   "version": "3.10.10"
  },
  "orig_nbformat": 4,
  "vscode": {
   "interpreter": {
    "hash": "f8048d823ac758c079b9f29ef30bbbc9b1138746b4add2d8fb5759ec4a242e2c"
   }
  }
 },
 "nbformat": 4,
 "nbformat_minor": 2
}
